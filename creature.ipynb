{
 "cells": [
  {
   "cell_type": "code",
   "execution_count": null,
   "metadata": {},
   "outputs": [],
   "source": [
    "class Creature:\n",
    "    def __init__(self, name, species, power_level, speed, habitat, special_ability, weakness):\n",
    "        self.name = name\n",
    "        self.species = species\n",
    "        self.power_level = power_level\n",
    "        self.speed = speed\n",
    "        self.habitat = habitat\n",
    "        self.special_ability = special_ability\n",
    "        self.weakness = weakness\n",
    "\n",
    "    def describe(self):\n",
    "        \"\"\"Prints the details of creature\"\"\"\n",
    "        print(f\"Creature: {self.name}\")\n",
    "        print(f\"Species:{self.species}\")\n",
    "        print(f\"Power Level:{self.power_level}\")\n",
    "        print(f\"Speed:{self.speed}\")\n",
    "        print(f\"Habitat:{self.habitat}\")\n",
    "        print(f\"Special Ability:{self.special_ability}\")\n",
    "        print(f\"Weakness:{self.weakness}\")\n",
    "\n",
    "    def use_ability(self):\n",
    "        print(f\"{self.name} uses {self.special_ability}!\")"
   ]
  },
  {
   "cell_type": "code",
   "execution_count": null,
   "metadata": {},
   "outputs": [],
   "source": [
    "class Dragon(Creature):\n",
    "    def fly(self):\n",
    "        \"\"\" \"\"\"\n",
    "        print(f\"{self.name} spreads its wings and takes off into the sky\")\n",
    "    \n",
    "class Elf(Dragon):\n",
    "    def stealth(self):\n",
    "        \"\"\" \"\"\"\n",
    "        print(f\"{self.name} blends into the shadows, becoming nearly invisible\")\n",
    "\n",
    "class Mermaid(Elf):\n",
    "    def swim(self):\n",
    "        print(f\"{self.name} glides effortlessly through the waves\")\n",
    "\n",
    "    \n",
    "class Golem(Mermaid):\n",
    "    def __init__(self, name, power_level, speed):\n",
    "        \"\"i\" \"\"\"\n",
    "        super().__init__(name, \"Golem\", power_level, speed, \"Forests\", \"Archery Mastery\", \"Dark Magic\")\n",
    "    \n",
    "    def smash(self):\n",
    "        \"\"\" \"\"\"\n",
    "        print(f\"{self.name} slams the ground, causing a small earthquake!\")"
   ]
  },
  {
   "cell_type": "code",
   "execution_count": null,
   "metadata": {},
   "outputs": [],
   "source": [
    "drake = Dragon(\"Drake\", 90, 45, \"40km/hr\", \"forest\", \"sky diving\", \"prune\")\n",
    "legolas = Elf(\"Legolas\", 80, 100, \"60km/hr\", \"desert\", \"fast runner\", \"can't fly\")\n",
    "ariel = Mermaid(\"Ariel\", 90, 45, \"90km/hr\", \"water\", \"swimming\", \"net\")\n",
    "rocky = Golem(\"Rocky\", 90, 45)\n",
    "# drake = Dragon(\"Drake\", 90, 45)\n",
    "# legolas = Elf(\"Legolas\", 80, 100)\n",
    "# ariel = Mermaid(\"Ariel\", 70, 80)\n",
    "# rocky = Golem(\"Rocky\", 95, 30)\n",
    "wrong number of arguments\n",
    "\n",
    "# TypeError: caused by passing the in the wrong number of arguments to the constructor"
   ]
  },
  {
   "cell_type": "code",
   "execution_count": 46,
   "metadata": {},
   "outputs": [
    {
     "name": "stdout",
     "output_type": "stream",
     "text": [
      "Creature: Drake\n",
      "Species:90\n",
      "Power Level:45\n",
      "Speed:40km/hr\n",
      "Habitat:forest\n",
      "Special Ability:sky diving\n",
      "Weakness:prune\n",
      "Drake uses sky diving!\n",
      "Drake spreads its wings and takes off into the sky\n"
     ]
    }
   ],
   "source": [
    "drake.describe()\n",
    "drake.use_ability()\n",
    "drake.fly()"
   ]
  },
  {
   "cell_type": "code",
   "execution_count": 47,
   "metadata": {},
   "outputs": [
    {
     "name": "stdout",
     "output_type": "stream",
     "text": [
      "Creature: Legolas\n",
      "Species:80\n",
      "Power Level:100\n",
      "Speed:60km/hr\n",
      "Habitat:desert\n",
      "Special Ability:fast runner\n",
      "Weakness:can't fly\n",
      "Legolas uses fast runner!\n",
      "Legolas blends into the shadows, becoming nearly invisible\n"
     ]
    }
   ],
   "source": [
    "legolas.describe()\n",
    "legolas.use_ability()\n",
    "legolas.stealth()\n"
   ]
  },
  {
   "cell_type": "code",
   "execution_count": 48,
   "metadata": {},
   "outputs": [
    {
     "name": "stdout",
     "output_type": "stream",
     "text": [
      "Creature: Ariel\n",
      "Species:90\n",
      "Power Level:45\n",
      "Speed:90km/hr\n",
      "Habitat:water\n",
      "Special Ability:swimming\n",
      "Weakness:net\n",
      "Ariel uses swimming!\n",
      "Ariel glides effortlessly through the waves\n"
     ]
    }
   ],
   "source": [
    "ariel.describe()\n",
    "ariel.use_ability()\n",
    "ariel.swim()"
   ]
  },
  {
   "cell_type": "code",
   "execution_count": 26,
   "metadata": {},
   "outputs": [
    {
     "name": "stdout",
     "output_type": "stream",
     "text": [
      "Creature: Rocky\n",
      "Species:Golem\n",
      "Power Level:90\n",
      "Speed:45\n",
      "Habitat:Forests\n",
      "Special Ability:Archery Mastery\n",
      "Weakness:Dark Magic\n",
      "Rocky uses Archery Mastery!\n",
      "Rocky slams the ground, causing a small earthquake!\n"
     ]
    }
   ],
   "source": [
    "rocky.describe()\n",
    "rocky.use_ability()\n",
    "rocky.smash()"
   ]
  },
  {
   "cell_type": "code",
   "execution_count": null,
   "metadata": {},
   "outputs": [],
   "source": []
  }
 ],
 "metadata": {
  "kernelspec": {
   "display_name": "OOP_under-u4HhZrqv",
   "language": "python",
   "name": "python3"
  },
  "language_info": {
   "codemirror_mode": {
    "name": "ipython",
    "version": 3
   },
   "file_extension": ".py",
   "mimetype": "text/x-python",
   "name": "python",
   "nbconvert_exporter": "python",
   "pygments_lexer": "ipython3",
   "version": "3.11.5"
  }
 },
 "nbformat": 4,
 "nbformat_minor": 2
}
